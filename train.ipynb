{
 "cells": [
  {
   "cell_type": "code",
   "execution_count": 51,
   "id": "f21fa5be",
   "metadata": {},
   "outputs": [
    {
     "name": "stdout",
     "output_type": "stream",
     "text": [
      "Requirement already satisfied: scikit-learn in c:\\users\\alexp\\anaconda3\\envs\\amazon\\lib\\site-packages (1.6.1)\n",
      "Requirement already satisfied: matplotlib in c:\\users\\alexp\\anaconda3\\envs\\amazon\\lib\\site-packages (3.10.3)\n",
      "Requirement already satisfied: pandas in c:\\users\\alexp\\anaconda3\\envs\\amazon\\lib\\site-packages (2.2.3)\n",
      "Requirement already satisfied: seaborn in c:\\users\\alexp\\anaconda3\\envs\\amazon\\lib\\site-packages (0.13.2)\n",
      "Requirement already satisfied: numpy>=1.19.5 in c:\\users\\alexp\\anaconda3\\envs\\amazon\\lib\\site-packages (from scikit-learn) (2.2.6)\n",
      "Requirement already satisfied: scipy>=1.6.0 in c:\\users\\alexp\\anaconda3\\envs\\amazon\\lib\\site-packages (from scikit-learn) (1.15.3)\n",
      "Requirement already satisfied: joblib>=1.2.0 in c:\\users\\alexp\\anaconda3\\envs\\amazon\\lib\\site-packages (from scikit-learn) (1.5.1)\n",
      "Requirement already satisfied: threadpoolctl>=3.1.0 in c:\\users\\alexp\\anaconda3\\envs\\amazon\\lib\\site-packages (from scikit-learn) (3.6.0)\n",
      "Requirement already satisfied: contourpy>=1.0.1 in c:\\users\\alexp\\anaconda3\\envs\\amazon\\lib\\site-packages (from matplotlib) (1.3.2)\n",
      "Requirement already satisfied: cycler>=0.10 in c:\\users\\alexp\\anaconda3\\envs\\amazon\\lib\\site-packages (from matplotlib) (0.12.1)\n",
      "Requirement already satisfied: fonttools>=4.22.0 in c:\\users\\alexp\\anaconda3\\envs\\amazon\\lib\\site-packages (from matplotlib) (4.58.0)\n",
      "Requirement already satisfied: kiwisolver>=1.3.1 in c:\\users\\alexp\\anaconda3\\envs\\amazon\\lib\\site-packages (from matplotlib) (1.4.8)\n",
      "Requirement already satisfied: packaging>=20.0 in c:\\users\\alexp\\anaconda3\\envs\\amazon\\lib\\site-packages (from matplotlib) (24.2)\n",
      "Requirement already satisfied: pillow>=8 in c:\\users\\alexp\\anaconda3\\envs\\amazon\\lib\\site-packages (from matplotlib) (11.2.1)\n",
      "Requirement already satisfied: pyparsing>=2.3.1 in c:\\users\\alexp\\anaconda3\\envs\\amazon\\lib\\site-packages (from matplotlib) (3.2.3)\n",
      "Requirement already satisfied: python-dateutil>=2.7 in c:\\users\\alexp\\anaconda3\\envs\\amazon\\lib\\site-packages (from matplotlib) (2.9.0.post0)\n",
      "Requirement already satisfied: pytz>=2020.1 in c:\\users\\alexp\\anaconda3\\envs\\amazon\\lib\\site-packages (from pandas) (2025.2)\n",
      "Requirement already satisfied: tzdata>=2022.7 in c:\\users\\alexp\\anaconda3\\envs\\amazon\\lib\\site-packages (from pandas) (2025.2)\n",
      "Requirement already satisfied: six>=1.5 in c:\\users\\alexp\\anaconda3\\envs\\amazon\\lib\\site-packages (from python-dateutil>=2.7->matplotlib) (1.17.0)\n",
      "Note: you may need to restart the kernel to use updated packages.\n"
     ]
    }
   ],
   "source": [
    "%pip install -U scikit-learn matplotlib pandas seaborn\n"
   ]
  },
  {
   "cell_type": "code",
   "execution_count": 52,
   "id": "d1f5ad8b",
   "metadata": {},
   "outputs": [],
   "source": [
    "from sklearn.ensemble  import RandomForestRegressor\n",
    "from sklearn.linear_model import LinearRegression\n",
    "import pandas as pd\n",
    "from sklearn.metrics import mean_squared_error\n",
    "import matplotlib.pyplot as plt\n",
    " \n",
    "train = pd.read_csv('./date/X_train.csv')\n",
    "y_train = pd.read_csv('./date/y_train.csv').values.ravel()\n",
    "test = pd.read_csv('./date/X_test.csv')\n",
    "y_test = pd.read_csv('./date/y_test.csv').values.ravel()\n",
    "initial_data = pd.read_csv('./date/credit_score_dataset.csv')"
   ]
  },
  {
   "cell_type": "code",
   "execution_count": 64,
   "id": "86d012aa",
   "metadata": {},
   "outputs": [
    {
     "name": "stdout",
     "output_type": "stream",
     "text": [
      "Mean Squared Error: 2115.23\n"
     ]
    },
    {
     "data": {
      "image/png": "[encoded data removed]",
      "text/plain": [
       "<Figure size 640x480 with 1 Axes>"
      ]
     },
     "metadata": {},
     "output_type": "display_data"
    }
   ],
   "source": [
    "rf = RandomForestRegressor(n_estimators=100, random_state=42)\n",
    "rf.fit(train, y_train)\n",
    "y_pred = rf.predict(test)\n",
    "mse = mean_squared_error(y_test, y_pred)\n",
    "print(f'Mean Squared Error: {mse:.2f}')\n",
    "plt.scatter(y_test, y_pred)\n",
    "plt.title('Actual vs Predicted')\n",
    "plt.savefig('./date/grafice/rf.png')"
   ]
  },
  {
   "cell_type": "code",
   "execution_count": 54,
   "id": "24e0c580",
   "metadata": {},
   "outputs": [],
   "source": [
    "import pandas as pd\n",
    "import matplotlib.pyplot as plt\n",
    "import seaborn as sns\n",
    "import os\n",
    "\n",
    "\n",
    "# Identifică coloanele\n",
    "\n",
    "\n",
    "\n",
    "\n",
    "\n",
    "\n"
   ]
  },
  {
   "cell_type": "code",
   "execution_count": 55,
   "id": "2a5b1a31",
   "metadata": {},
   "outputs": [],
   "source": [
    "numeric_cols = train.select_dtypes(include=['int64', 'float64']).columns.tolist()\n",
    "categorical_cols = train.select_dtypes(include=['object']).columns.tolist()\n",
    "\n",
    "train.hist(bins=50, figsize=(20, 15), color='blue', edgecolor='black')\n",
    "plt.suptitle('Distributia valorilor')\n",
    "plt.savefig('./date/graficetrain_histogram.png')\n",
    "plt.close()\n",
    "\n",
    "fig, axes = plt.subplots(1, 2, figsize=(12, 4))\n",
    "\n",
    "sns.countplot(data=initial_data, x=\"MaritalStatus\", ax=axes[0])\n",
    "axes[0].set_title(\"Marital Status\")\n",
    "\n",
    "sns.countplot(data=initial_data, x=\"CreditHistory\", ax=axes[1])\n",
    "axes[1].set_title(\"Credit History\")\n",
    "\n",
    "plt.tight_layout()\n",
    "plt.savefig('./date/grafice/Categoricals_MaritalStatus_CreditHistory.png')\n",
    "plt.close()"
   ]
  },
  {
   "cell_type": "code",
   "execution_count": 56,
   "id": "4cbe3008",
   "metadata": {},
   "outputs": [],
   "source": [
    "# Detect outliers using the IQR method\n",
    "outlier_counts = {}\n",
    "for col in numeric_cols:\n",
    "    Q1 = train[col].quantile(0.25)\n",
    "    Q3 = train[col].quantile(0.75)\n",
    "    IQR = Q3 - Q1\n",
    "    outliers = train[(train[col] < Q1 - 1.5 * IQR) | (train[col] > Q3 + 1.5 * IQR)]\n",
    "    outlier_counts[col] = len(outliers)\n"
   ]
  },
  {
   "cell_type": "code",
   "execution_count": 57,
   "id": "6eb18b3e",
   "metadata": {},
   "outputs": [],
   "source": [
    "plt.figure(figsize=(10, 6))\n",
    "correlation_matrix = train.corr()\n",
    "sns.heatmap(correlation_matrix, annot=True, fmt=\".2f\", cmap='coolwarm', square=True)\n",
    "plt.title('Correlation Matrix')\n",
    "plt.savefig('./date/grafice/corr_matrix.png')\n",
    "plt.close()"
   ]
  },
  {
   "cell_type": "code",
   "execution_count": 58,
   "id": "fb0cf330",
   "metadata": {},
   "outputs": [
    {
     "name": "stdout",
     "output_type": "stream",
     "text": [
      "<class 'pandas.core.frame.DataFrame'>\n",
      "RangeIndex: 200 entries, 0 to 199\n",
      "Data columns (total 11 columns):\n",
      " #   Column                 Non-Null Count  Dtype  \n",
      "---  ------                 --------------  -----  \n",
      " 0   Age                    200 non-null    float64\n",
      " 1   Dependents             200 non-null    float64\n",
      " 2   Income                 200 non-null    float64\n",
      " 3   LoanAmount             200 non-null    float64\n",
      " 4   CurrentBalance         200 non-null    float64\n",
      " 5   PreviousBalance        200 non-null    float64\n",
      " 6   Period                 200 non-null    float64\n",
      " 7   CreditHistory_Bad      200 non-null    float64\n",
      " 8   CreditHistory_Good     200 non-null    float64\n",
      " 9   MaritalStatus_Married  200 non-null    float64\n",
      " 10  MaritalStatus_Single   200 non-null    float64\n",
      "dtypes: float64(11)\n",
      "memory usage: 17.3 KB\n"
     ]
    }
   ],
   "source": [
    "test.info()"
   ]
  },
  {
   "cell_type": "code",
   "execution_count": 59,
   "id": "a051132c",
   "metadata": {},
   "outputs": [],
   "source": [
    "fig, axes = plt.subplots(2, 3, figsize=(12, 4))\n",
    "axes = axes.flatten()\n",
    "cnt = 0\n",
    "for  col in [\"Income\", \"Age\", \"LoanAmount\", \"CurrentBalance\", \"PreviousBalance\", \"Period\"]:\n",
    "    axes[cnt].scatter(test[col], y_test, alpha=0.5)\n",
    "    axes[cnt].set_title(f'{col} vs CreditScore')\n",
    "    axes[cnt].set_xlabel(col)\n",
    "    axes[cnt].set_ylabel('y_test')\n",
    "    cnt += 1\n",
    "plt.tight_layout()\n",
    "plt.savefig(f'./date/grafice/scatter.png')\n",
    "plt.close()\n",
    "\n",
    "\n",
    "\n",
    "fig, axes = plt.subplots(1, 4, figsize=(12, 4))\n",
    "\n",
    "axes = axes.flatten()\n",
    "\n",
    "for idx, col in enumerate([\"MaritalStatus_Married\", \"MaritalStatus_Single\", \"CreditHistory_Good\", \"CreditHistory_Bad\"]):\n",
    "    sns.violinplot(data=test, x=col, y=y_test, ax=axes[idx])\n",
    "    axes[idx].set_title(f'{col} vs y_test')\n",
    "plt.tight_layout()\n",
    "plt.savefig('./date/grafice/violin_plots.png')\n",
    "plt.close()"
   ]
  }
 ],
 "metadata": {
  "kernelspec": {
   "display_name": "amazon",
   "language": "python",
   "name": "python3"
  },
  "language_info": {
   "codemirror_mode": {
    "name": "ipython",
    "version": 3
   },
   "file_extension": ".py",
   "mimetype": "text/x-python",
   "name": "python",
   "nbconvert_exporter": "python",
   "pygments_lexer": "ipython3",
   "version": "3.13.2"
  }
 },
 "nbformat": 4,
 "nbformat_minor": 5
}
