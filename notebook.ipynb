{
 "cells": [
  {
   "cell_type": "code",
   "execution_count": 131,
   "id": "32afcf02",
   "metadata": {},
   "outputs": [],
   "source": [
    "from sklearn.model_selection import train_test_split\n",
    "import pandas as pd\n",
    "\n",
    "df = pd.read_csv('./date/credit_score_dataset.csv')"
   ]
  },
  {
   "cell_type": "code",
   "execution_count": 132,
   "id": "e567ae5c",
   "metadata": {},
   "outputs": [
    {
     "name": "stdout",
     "output_type": "stream",
     "text": [
      "<class 'pandas.core.frame.DataFrame'>\n",
      "RangeIndex: 1000 entries, 0 to 999\n",
      "Data columns (total 10 columns):\n",
      " #   Column           Non-Null Count  Dtype  \n",
      "---  ------           --------------  -----  \n",
      " 0   Age              861 non-null    float64\n",
      " 1   Dependents       874 non-null    float64\n",
      " 2   Income           934 non-null    float64\n",
      " 3   LoanAmount       913 non-null    float64\n",
      " 4   CurrentBalance   806 non-null    float64\n",
      " 5   PreviousBalance  812 non-null    float64\n",
      " 6   CreditHistory    873 non-null    object \n",
      " 7   MaritalStatus    852 non-null    object \n",
      " 8   Period           912 non-null    float64\n",
      " 9   CreditScore      1000 non-null   int64  \n",
      "dtypes: float64(7), int64(1), object(2)\n",
      "memory usage: 78.3+ KB\n"
     ]
    }
   ],
   "source": [
    "df.info()"
   ]
  },
  {
   "cell_type": "code",
   "execution_count": 133,
   "id": "5d0fa386",
   "metadata": {},
   "outputs": [
    {
     "name": "stderr",
     "output_type": "stream",
     "text": [
      "C:\\Users\\alexp\\AppData\\Local\\Temp\\ipykernel_34600\\4151799427.py:2: FutureWarning: A value is trying to be set on a copy of a DataFrame or Series through chained assignment using an inplace method.\n",
      "The behavior will change in pandas 3.0. This inplace method will never work because the intermediate object on which we are setting values always behaves as a copy.\n",
      "\n",
      "For example, when doing 'df[col].method(value, inplace=True)', try using 'df.method({col: value}, inplace=True)' or df[col] = df[col].method(value) instead, to perform the operation inplace on the original object.\n",
      "\n",
      "\n",
      "  df[\"Age\"].fillna(df[\"Age\"].mean(), inplace=True)\n",
      "C:\\Users\\alexp\\AppData\\Local\\Temp\\ipykernel_34600\\4151799427.py:3: FutureWarning: A value is trying to be set on a copy of a DataFrame or Series through chained assignment using an inplace method.\n",
      "The behavior will change in pandas 3.0. This inplace method will never work because the intermediate object on which we are setting values always behaves as a copy.\n",
      "\n",
      "For example, when doing 'df[col].method(value, inplace=True)', try using 'df.method({col: value}, inplace=True)' or df[col] = df[col].method(value) instead, to perform the operation inplace on the original object.\n",
      "\n",
      "\n",
      "  df[\"Income\"].fillna(df[\"Income\"].mean(), inplace=True)\n",
      "C:\\Users\\alexp\\AppData\\Local\\Temp\\ipykernel_34600\\4151799427.py:4: FutureWarning: A value is trying to be set on a copy of a DataFrame or Series through chained assignment using an inplace method.\n",
      "The behavior will change in pandas 3.0. This inplace method will never work because the intermediate object on which we are setting values always behaves as a copy.\n",
      "\n",
      "For example, when doing 'df[col].method(value, inplace=True)', try using 'df.method({col: value}, inplace=True)' or df[col] = df[col].method(value) instead, to perform the operation inplace on the original object.\n",
      "\n",
      "\n",
      "  df[\"Dependents\"].fillna(df[\"Dependents\"].mode()[0], inplace=True)\n",
      "C:\\Users\\alexp\\AppData\\Local\\Temp\\ipykernel_34600\\4151799427.py:5: FutureWarning: A value is trying to be set on a copy of a DataFrame or Series through chained assignment using an inplace method.\n",
      "The behavior will change in pandas 3.0. This inplace method will never work because the intermediate object on which we are setting values always behaves as a copy.\n",
      "\n",
      "For example, when doing 'df[col].method(value, inplace=True)', try using 'df.method({col: value}, inplace=True)' or df[col] = df[col].method(value) instead, to perform the operation inplace on the original object.\n",
      "\n",
      "\n",
      "  df[\"LoanAmount\"].fillna(df[\"LoanAmount\"].mean(), inplace=True)\n",
      "C:\\Users\\alexp\\AppData\\Local\\Temp\\ipykernel_34600\\4151799427.py:6: FutureWarning: A value is trying to be set on a copy of a DataFrame or Series through chained assignment using an inplace method.\n",
      "The behavior will change in pandas 3.0. This inplace method will never work because the intermediate object on which we are setting values always behaves as a copy.\n",
      "\n",
      "For example, when doing 'df[col].method(value, inplace=True)', try using 'df.method({col: value}, inplace=True)' or df[col] = df[col].method(value) instead, to perform the operation inplace on the original object.\n",
      "\n",
      "\n",
      "  df[\"CurrentBalance\"].fillna(df[\"CurrentBalance\"].mean(), inplace=True)\n",
      "C:\\Users\\alexp\\AppData\\Local\\Temp\\ipykernel_34600\\4151799427.py:7: FutureWarning: A value is trying to be set on a copy of a DataFrame or Series through chained assignment using an inplace method.\n",
      "The behavior will change in pandas 3.0. This inplace method will never work because the intermediate object on which we are setting values always behaves as a copy.\n",
      "\n",
      "For example, when doing 'df[col].method(value, inplace=True)', try using 'df.method({col: value}, inplace=True)' or df[col] = df[col].method(value) instead, to perform the operation inplace on the original object.\n",
      "\n",
      "\n",
      "  df[\"PreviousBalance\"].fillna(df[\"PreviousBalance\"].mean(), inplace=True)\n",
      "C:\\Users\\alexp\\AppData\\Local\\Temp\\ipykernel_34600\\4151799427.py:8: FutureWarning: A value is trying to be set on a copy of a DataFrame or Series through chained assignment using an inplace method.\n",
      "The behavior will change in pandas 3.0. This inplace method will never work because the intermediate object on which we are setting values always behaves as a copy.\n",
      "\n",
      "For example, when doing 'df[col].method(value, inplace=True)', try using 'df.method({col: value}, inplace=True)' or df[col] = df[col].method(value) instead, to perform the operation inplace on the original object.\n",
      "\n",
      "\n",
      "  df[\"Period\"].fillna(df[\"Period\"].mean(), inplace=True)\n",
      "C:\\Users\\alexp\\AppData\\Local\\Temp\\ipykernel_34600\\4151799427.py:9: FutureWarning: A value is trying to be set on a copy of a DataFrame or Series through chained assignment using an inplace method.\n",
      "The behavior will change in pandas 3.0. This inplace method will never work because the intermediate object on which we are setting values always behaves as a copy.\n",
      "\n",
      "For example, when doing 'df[col].method(value, inplace=True)', try using 'df.method({col: value}, inplace=True)' or df[col] = df[col].method(value) instead, to perform the operation inplace on the original object.\n",
      "\n",
      "\n",
      "  df[\"MaritalStatus\"].fillna(df[\"MaritalStatus\"].mode()[0], inplace=True)\n",
      "C:\\Users\\alexp\\AppData\\Local\\Temp\\ipykernel_34600\\4151799427.py:10: FutureWarning: A value is trying to be set on a copy of a DataFrame or Series through chained assignment using an inplace method.\n",
      "The behavior will change in pandas 3.0. This inplace method will never work because the intermediate object on which we are setting values always behaves as a copy.\n",
      "\n",
      "For example, when doing 'df[col].method(value, inplace=True)', try using 'df.method({col: value}, inplace=True)' or df[col] = df[col].method(value) instead, to perform the operation inplace on the original object.\n",
      "\n",
      "\n",
      "  df[\"CreditHistory\"].fillna(df[\"CreditHistory\"].mode()[0], inplace=True)\n"
     ]
    }
   ],
   "source": [
    "# Fill NaN values with the mean for numeric columns\n",
    "df[\"Age\"].fillna(df[\"Age\"].mean(), inplace=True)\n",
    "df[\"Income\"].fillna(df[\"Income\"].mean(), inplace=True) \n",
    "df[\"Dependents\"].fillna(df[\"Dependents\"].mode()[0], inplace=True)\n",
    "df[\"LoanAmount\"].fillna(df[\"LoanAmount\"].mean(), inplace=True)\n",
    "df[\"CurrentBalance\"].fillna(df[\"CurrentBalance\"].mean(), inplace=True)\n",
    "df[\"PreviousBalance\"].fillna(df[\"PreviousBalance\"].mean(), inplace=True)\n",
    "df[\"Period\"].fillna(df[\"Period\"].mean(), inplace=True)\n",
    "df[\"MaritalStatus\"].fillna(df[\"MaritalStatus\"].mode()[0], inplace=True)\n",
    "df[\"CreditHistory\"].fillna(df[\"CreditHistory\"].mode()[0], inplace=True)"
   ]
  },
  {
   "cell_type": "code",
   "execution_count": 134,
   "id": "13c1f412",
   "metadata": {},
   "outputs": [],
   "source": [
    "from sklearn.preprocessing import OneHotEncoder\n",
    "cols = ['CreditHistory', 'MaritalStatus']\n",
    "\n",
    "encoder = OneHotEncoder(drop='first', sparse_output=False, handle_unknown='ignore')\n",
    "encoder.fit(df[cols])\n",
    "df_onehot = encoder.transform(df[cols])\n",
    "ohe_df = pd.DataFrame(df_onehot, columns=encoder.get_feature_names_out(cols))\n",
    "df = pd.concat([df.drop(cols, axis=1), ohe_df], axis=1)\n",
    "\n",
    "from sklearn.preprocessing import MinMaxScaler\n",
    "scaler = MinMaxScaler()\n",
    "numeric_cols = ['Age', 'Income', 'Dependents', 'LoanAmount', 'CurrentBalance', 'PreviousBalance', 'Period']\n",
    "df[numeric_cols] = scaler.fit_transform(df[numeric_cols])\n"
   ]
  },
  {
   "cell_type": "code",
   "execution_count": 135,
   "id": "c3291182",
   "metadata": {},
   "outputs": [],
   "source": [
    "X = df.drop('CreditScore', axis=1)\n",
    "y = df['CreditScore']\n",
    "X_train, X_test, y_train, y_test = train_test_split(X, y, test_size=0.2, random_state=42)\n",
    "X_train.to_csv('./date/X_train.csv', index=False)\n",
    "X_test.to_csv('./date/X_test.csv', index=False)\n",
    "y_train.to_csv('./date/y_train.csv', index=False)   \n",
    "y_test.to_csv('./date/y_test.csv', index=False)"
   ]
  }
 ],
 "metadata": {
  "kernelspec": {
   "display_name": "amazon",
   "language": "python",
   "name": "python3"
  },
  "language_info": {
   "codemirror_mode": {
    "name": "ipython",
    "version": 3
   },
   "file_extension": ".py",
   "mimetype": "text/x-python",
   "name": "python",
   "nbconvert_exporter": "python",
   "pygments_lexer": "ipython3",
   "version": "3.13.2"
  }
 },
 "nbformat": 4,
 "nbformat_minor": 5
}
